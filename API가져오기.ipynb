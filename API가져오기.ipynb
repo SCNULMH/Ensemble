{
 "cells": [
  {
   "cell_type": "code",
   "execution_count": 1,
   "id": "f3d6d780-c7e3-4735-815c-e2a14888a1bc",
   "metadata": {},
   "outputs": [
    {
     "name": "stdout",
     "output_type": "stream",
     "text": [
      "Requirement already satisfied: oracledb in c:\\users\\user\\anaconda3\\lib\\site-packages (2.5.1)\n",
      "Requirement already satisfied: cryptography>=3.2.1 in c:\\users\\user\\anaconda3\\lib\\site-packages (from oracledb) (43.0.0)\n",
      "Requirement already satisfied: cffi>=1.12 in c:\\users\\user\\anaconda3\\lib\\site-packages (from cryptography>=3.2.1->oracledb) (1.17.1)\n",
      "Requirement already satisfied: pycparser in c:\\users\\user\\anaconda3\\lib\\site-packages (from cffi>=1.12->cryptography>=3.2.1->oracledb) (2.21)\n"
     ]
    }
   ],
   "source": [
    "!pip install oracledb"
   ]
  },
  {
   "cell_type": "code",
   "execution_count": null,
   "id": "33879d42-9a59-474c-8b46-2c159eed5ff6",
   "metadata": {
    "scrolled": true
   },
   "outputs": [
    {
     "name": "stdout",
     "output_type": "stream",
     "text": [
      "API에서 데이터 수집 중...\n"
     ]
    },
    {
     "name": "stderr",
     "output_type": "stream",
     "text": [
      "페이지 1 상세 데이터 수집 진행: 100%|██████████████████████████████████████████████████| 10/10 [00:11<00:00,  1.11s/it]\n",
      "페이지 2 상세 데이터 수집 진행: 100%|██████████████████████████████████████████████████| 10/10 [00:11<00:00,  1.11s/it]\n",
      "페이지 3 상세 데이터 수집 진행: 100%|██████████████████████████████████████████████████| 10/10 [00:10<00:00,  1.09s/it]\n",
      "페이지 4 상세 데이터 수집 진행: 100%|██████████████████████████████████████████████████| 10/10 [00:10<00:00,  1.09s/it]\n",
      "페이지 5 상세 데이터 수집 진행: 100%|██████████████████████████████████████████████████| 10/10 [00:10<00:00,  1.10s/it]\n",
      "페이지 6 상세 데이터 수집 진행: 100%|██████████████████████████████████████████████████| 10/10 [00:10<00:00,  1.09s/it]\n",
      "페이지 7 상세 데이터 수집 진행: 100%|██████████████████████████████████████████████████| 10/10 [00:10<00:00,  1.09s/it]\n",
      "페이지 8 상세 데이터 수집 진행: 100%|██████████████████████████████████████████████████| 10/10 [00:10<00:00,  1.09s/it]\n",
      "페이지 9 상세 데이터 수집 진행: 100%|██████████████████████████████████████████████████| 10/10 [00:10<00:00,  1.08s/it]\n",
      "페이지 10 상세 데이터 수집 진행: 100%|█████████████████████████████████████████████████| 10/10 [00:10<00:00,  1.09s/it]\n",
      "페이지 11 상세 데이터 수집 진행: 100%|█████████████████████████████████████████████████| 10/10 [00:10<00:00,  1.09s/it]\n",
      "페이지 12 상세 데이터 수집 진행: 100%|█████████████████████████████████████████████████| 10/10 [00:10<00:00,  1.09s/it]\n",
      "페이지 13 상세 데이터 수집 진행: 100%|█████████████████████████████████████████████████| 10/10 [00:10<00:00,  1.09s/it]\n",
      "페이지 14 상세 데이터 수집 진행: 100%|█████████████████████████████████████████████████| 10/10 [00:10<00:00,  1.09s/it]\n",
      "페이지 15 상세 데이터 수집 진행: 100%|█████████████████████████████████████████████████| 10/10 [00:10<00:00,  1.09s/it]\n",
      "페이지 16 상세 데이터 수집 진행: 100%|█████████████████████████████████████████████████| 10/10 [00:10<00:00,  1.08s/it]\n",
      "페이지 17 상세 데이터 수집 진행: 100%|█████████████████████████████████████████████████| 10/10 [00:11<00:00,  1.10s/it]\n",
      "페이지 18 상세 데이터 수집 진행: 100%|█████████████████████████████████████████████████| 10/10 [00:10<00:00,  1.09s/it]\n",
      "페이지 19 상세 데이터 수집 진행: 100%|█████████████████████████████████████████████████| 10/10 [00:10<00:00,  1.08s/it]\n",
      "페이지 20 상세 데이터 수집 진행: 100%|█████████████████████████████████████████████████| 10/10 [00:11<00:00,  1.11s/it]\n",
      "페이지 21 상세 데이터 수집 진행:  10%|█████                                             | 1/10 [00:01<00:09,  1.10s/it]"
     ]
    }
   ],
   "source": [
    "import requests\n",
    "import pandas as pd\n",
    "import xml.etree.ElementTree as ET\n",
    "import time\n",
    "from tqdm import tqdm\n",
    "\n",
    "# API 설정\n",
    "list_api_url = \"http://kopis.or.kr/openApi/restful/pblprfr\"\n",
    "detail_api_url = \"http://kopis.or.kr/openApi/restful/pblprfr/\"\n",
    "api_key = \"4a97d2970cd44a27a8aa49b31f7d2fb0\"\n",
    "\n",
    "# 목록 및 상세 데이터 동시 수집\n",
    "data = []\n",
    "page = 1\n",
    "rows = 10\n",
    "request_interval = 1  # 요청 간격 (초)\n",
    "\n",
    "print(\"API에서 데이터 수집 중...\")\n",
    "while True:\n",
    "    # 목록 API 호출\n",
    "    list_params = {\n",
    "        \"service\": api_key,\n",
    "        \"stdate\": \"20250101\",\n",
    "        \"eddate\": \"20250131\",\n",
    "        \"cpage\": page,\n",
    "        \"rows\": rows,\n",
    "        \"shcate\": \"GGGA\"\n",
    "    }\n",
    "    list_response = requests.get(list_api_url, params=list_params)\n",
    "    if list_response.status_code == 200:\n",
    "        root = ET.fromstring(list_response.text)\n",
    "        page_data = [\n",
    "            {\n",
    "                \"mt20id\": item.findtext(\"mt20id\"),\n",
    "                \"prfnm\": item.findtext(\"prfnm\"),\n",
    "                \"poster\": item.findtext(\"poster\"),\n",
    "                \"prfpdfrom\": item.findtext(\"prfpdfrom\"),\n",
    "                \"prfpdto\": item.findtext(\"prfpdto\")\n",
    "            }\n",
    "            for item in root.findall(\"db\")\n",
    "        ]\n",
    "        if not page_data:  # 페이지에 데이터가 없으면 종료\n",
    "            break\n",
    "\n",
    "        # 상세 API 호출 및 데이터 수집\n",
    "        for item in tqdm(page_data, desc=f\"페이지 {page} 상세 데이터 수집 진행\"):\n",
    "            mt20id = item[\"mt20id\"]\n",
    "            detail_url = f\"{detail_api_url}{mt20id}?service={api_key}\"\n",
    "            detail_response = requests.get(detail_url)\n",
    "            if detail_response.status_code == 200:\n",
    "                detail_root = ET.fromstring(detail_response.text)\n",
    "\n",
    "                # 출연진 정보 확인\n",
    "                prfcast = detail_root.findtext(\".//prfcast\", default=\"N/A\")\n",
    "                if prfcast and prfcast.strip() not in [\"N/A\", \"\"]:\n",
    "                    styurls_element = detail_root.find(\".//styurls\")\n",
    "                    if styurls_element is not None:\n",
    "                        styurls = [styurl.text.strip() for styurl in styurls_element.findall(\"styurl\") if styurl.text]\n",
    "                        styurls_combined = \"; \".join(styurls)\n",
    "                    else:\n",
    "                        styurls_combined = \"없음\"\n",
    "\n",
    "                    # 데이터 저장\n",
    "                    data.append({\n",
    "                        \"mt20id\": mt20id,\n",
    "                        \"prfnm\": item[\"prfnm\"],\n",
    "                        \"poster\": item[\"poster\"],\n",
    "                        \"prfpdfrom\": item[\"prfpdfrom\"],\n",
    "                        \"prfpdto\": item[\"prfpdto\"],\n",
    "                        \"prfcast\": prfcast,\n",
    "                        \"fcltynm\": detail_root.findtext(\".//fcltynm\", default=\"N/A\"),\n",
    "                        \"dtguidance\": detail_root.findtext(\".//dtguidance\", default=\"N/A\"),\n",
    "                        \"prfruntime\": detail_root.findtext(\".//prfruntime\", default=\"N/A\"),\n",
    "                        \"pcseguidance\": detail_root.findtext(\".//pcseguidance\", default=\"N/A\"),\n",
    "                        \"styurls\": styurls_combined,\n",
    "                        \"musicallicense\": detail_root.findtext(\".//musicallicense\", default=\"N/A\"),\n",
    "                        \"musicalcreate\": detail_root.findtext(\".//musicalcreate\", default=\"N/A\")\n",
    "                    })\n",
    "            time.sleep(request_interval)\n",
    "        page += 1\n",
    "    else:\n",
    "        break\n",
    "\n",
    "# 데이터프레임 생성\n",
    "final_df = pd.DataFrame(data)\n"
   ]
  },
  {
   "cell_type": "code",
   "execution_count": 3,
   "id": "35830930-e5ca-415a-9fd3-2e02e49bdf59",
   "metadata": {},
   "outputs": [
    {
     "name": "stdout",
     "output_type": "stream",
     "text": [
      "데이터베이스에 데이터 삽입 중...\n",
      "데이터베이스 삽입 완료!\n"
     ]
    }
   ],
   "source": [
    "import oracledb\n",
    "\n",
    "# Oracle Instant Client 경로 설정 (Thick 모드 사용)\n",
    "oracledb.init_oracle_client(lib_dir=r\"C:/oraclexe/app/oracle/instantclient_23_6\")\n",
    "\n",
    "# Oracle DB 연결 설정\n",
    "connection = oracledb.connect(\n",
    "    user=\"hr\",\n",
    "    password=\"12345\",\n",
    "    dsn=\"localhost:1521/xe\"\n",
    ")\n",
    "cursor = connection.cursor()\n",
    "\n",
    "# 데이터베이스 삽입\n",
    "print(\"데이터베이스에 데이터 삽입 중...\")\n",
    "\n",
    "# tb_musical 데이터 삽입 및 갱신\n",
    "for _, row in final_df.iterrows():\n",
    "    cursor.execute(\"\"\"\n",
    "        MERGE INTO tb_musical USING DUAL\n",
    "        ON (musical_id = :musical_id)\n",
    "        WHEN MATCHED THEN\n",
    "        UPDATE SET\n",
    "            musical_title = :musical_title,\n",
    "            musical_poster = :musical_poster,\n",
    "            musical_st_dt = TO_DATE(:musical_st_dt, 'YYYY.MM.DD'),\n",
    "            musical_ed_dt = TO_DATE(:musical_ed_dt, 'YYYY.MM.DD'),\n",
    "            musical_license = :musical_license,\n",
    "            musical_create = :musical_create,\n",
    "            musical_cast = :musical_cast\n",
    "        WHEN NOT MATCHED THEN\n",
    "        INSERT (musical_id, musical_title, musical_poster, musical_st_dt, musical_ed_dt, musical_license, musical_create, musical_cast)\n",
    "        VALUES (:musical_id, :musical_title, :musical_poster, TO_DATE(:musical_st_dt, 'YYYY.MM.DD'), TO_DATE(:musical_ed_dt, 'YYYY.MM.DD'), :musical_license, :musical_create, :musical_cast)\n",
    "    \"\"\", {\n",
    "        \"musical_id\": row[\"mt20id\"],\n",
    "        \"musical_title\": row[\"prfnm\"],\n",
    "        \"musical_poster\": row[\"poster\"],\n",
    "        \"musical_st_dt\": row[\"prfpdfrom\"],\n",
    "        \"musical_ed_dt\": row[\"prfpdto\"],\n",
    "        \"musical_license\": row[\"musicallicense\"],\n",
    "        \"musical_create\": row[\"musicalcreate\"],\n",
    "        \"musical_cast\": row[\"prfcast\"]\n",
    "    })\n",
    "\n",
    "# tb_show 데이터 삽입 및 갱신\n",
    "for _, row in final_df.iterrows():\n",
    "    cursor.execute(\"\"\"\n",
    "        MERGE INTO tb_show USING DUAL\n",
    "        ON (musical_id = :musical_id AND hall_name = :hall_name AND show_dt = :show_dt)\n",
    "        WHEN MATCHED THEN\n",
    "        UPDATE SET\n",
    "            show_runtime = :show_runtime,\n",
    "            show_price = :show_price,\n",
    "            show_cast = :show_cast,\n",
    "            show_imgs = :show_imgs\n",
    "        WHEN NOT MATCHED THEN\n",
    "        INSERT (musical_id, hall_name, show_dt, show_runtime, show_price, created_at, show_cast, show_imgs)\n",
    "        VALUES (:musical_id, :hall_name, :show_dt, :show_runtime, :show_price, CURRENT_TIMESTAMP, :show_cast, :show_imgs)\n",
    "    \"\"\", {\n",
    "        \"musical_id\": row[\"mt20id\"],\n",
    "        \"hall_name\": row[\"fcltynm\"],\n",
    "        \"show_dt\": row[\"dtguidance\"],\n",
    "        \"show_runtime\": row[\"prfruntime\"],\n",
    "        \"show_price\": row[\"pcseguidance\"],\n",
    "        \"show_cast\": row[\"prfcast\"],\n",
    "        \"show_imgs\": row[\"styurls\"]\n",
    "    })\n",
    "\n",
    "connection.commit()\n",
    "connection.close()\n",
    "\n",
    "print(\"데이터베이스 삽입 완료!\")"
   ]
  },
  {
   "cell_type": "code",
   "execution_count": 11,
   "id": "dbebaa87-c790-455d-a5dc-351e0bb0e801",
   "metadata": {},
   "outputs": [],
   "source": [
    "list_df.to_csv(\"list_data.csv\", index=False, encoding=\"utf-8-sig\")\n",
    "detail_df.to_csv(\"detail_data.csv\", index=False, encoding=\"utf-8-sig\")"
   ]
  },
  {
   "cell_type": "code",
   "execution_count": 3,
   "id": "38522059-c274-44b7-beea-51491f818f3b",
   "metadata": {},
   "outputs": [],
   "source": [
    "final_df.to_csv(\"final_df.csv\", index=False, encoding=\"utf-8-sig\")"
   ]
  },
  {
   "cell_type": "code",
   "execution_count": 13,
   "id": "9adc631d-938d-458f-abfb-efc94b1533b4",
   "metadata": {},
   "outputs": [
    {
     "name": "stdout",
     "output_type": "stream",
     "text": [
      "mt20id: PF150471, prfcast: '박선령, 허혁, 조재문, 이혜림'\n"
     ]
    }
   ],
   "source": []
  },
  {
   "cell_type": "code",
   "execution_count": null,
   "id": "e95a5664-87b4-4e97-ac47-a389afa88ac4",
   "metadata": {},
   "outputs": [],
   "source": []
  },
  {
   "cell_type": "code",
   "execution_count": null,
   "id": "cdcdc2ea-c141-43b4-b587-79df814bffaf",
   "metadata": {},
   "outputs": [],
   "source": []
  },
  {
   "cell_type": "code",
   "execution_count": null,
   "id": "532be2e9-87cf-4349-8fa9-e6770d8a750d",
   "metadata": {},
   "outputs": [],
   "source": []
  },
  {
   "cell_type": "code",
   "execution_count": null,
   "id": "67affaae-3fe2-4e9e-9d15-47902df45f80",
   "metadata": {},
   "outputs": [],
   "source": []
  },
  {
   "cell_type": "code",
   "execution_count": null,
   "id": "969159c3-386b-4efc-be89-87254b29b5e1",
   "metadata": {},
   "outputs": [],
   "source": []
  },
  {
   "cell_type": "code",
   "execution_count": null,
   "id": "9c0811a6-1ad1-4541-9cce-aa39224b87ae",
   "metadata": {},
   "outputs": [],
   "source": []
  },
  {
   "cell_type": "code",
   "execution_count": null,
   "id": "4a6ee5cd-2c31-47c7-8874-a1efc92718dd",
   "metadata": {},
   "outputs": [],
   "source": []
  }
 ],
 "metadata": {
  "kernelspec": {
   "display_name": "Python 3 (ipykernel)",
   "language": "python",
   "name": "python3"
  },
  "language_info": {
   "codemirror_mode": {
    "name": "ipython",
    "version": 3
   },
   "file_extension": ".py",
   "mimetype": "text/x-python",
   "name": "python",
   "nbconvert_exporter": "python",
   "pygments_lexer": "ipython3",
   "version": "3.12.7"
  }
 },
 "nbformat": 4,
 "nbformat_minor": 5
}
